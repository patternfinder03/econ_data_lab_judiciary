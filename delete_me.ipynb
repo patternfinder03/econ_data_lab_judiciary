{
 "cells": [
  {
   "cell_type": "code",
   "execution_count": 1,
   "metadata": {},
   "outputs": [],
   "source": [
    "import pandas as pd"
   ]
  },
  {
   "cell_type": "code",
   "execution_count": 2,
   "metadata": {},
   "outputs": [],
   "source": [
    "df = pd.read_csv(r'C:\\Users\\theal\\Downloads\\CS411_papers_table.csv')"
   ]
  },
  {
   "cell_type": "code",
   "execution_count": 3,
   "metadata": {},
   "outputs": [
    {
     "data": {
      "text/plain": [
       "(148746, 6)"
      ]
     },
     "execution_count": 3,
     "metadata": {},
     "output_type": "execute_result"
    }
   ],
   "source": [
    "df.shape"
   ]
  },
  {
   "cell_type": "code",
   "execution_count": 4,
   "metadata": {},
   "outputs": [],
   "source": [
    "# Just the first 1100 rows of df\n",
    "df = df.iloc[:1100]"
   ]
  },
  {
   "cell_type": "code",
   "execution_count": 5,
   "metadata": {},
   "outputs": [],
   "source": [
    "df.to_csv(r'C:\\Users\\theal\\Downloads\\CS411_papers_table_1100.csv', index=False)  # Save the first 1100 rows to a new CSV file"
   ]
  },
  {
   "cell_type": "code",
   "execution_count": 6,
   "metadata": {},
   "outputs": [
    {
     "data": {
      "text/html": [
       "<div>\n",
       "<style scoped>\n",
       "    .dataframe tbody tr th:only-of-type {\n",
       "        vertical-align: middle;\n",
       "    }\n",
       "\n",
       "    .dataframe tbody tr th {\n",
       "        vertical-align: top;\n",
       "    }\n",
       "\n",
       "    .dataframe thead th {\n",
       "        text-align: right;\n",
       "    }\n",
       "</style>\n",
       "<table border=\"1\" class=\"dataframe\">\n",
       "  <thead>\n",
       "    <tr style=\"text-align: right;\">\n",
       "      <th></th>\n",
       "      <th>Unnamed: 0</th>\n",
       "      <th>title</th>\n",
       "      <th>abstract</th>\n",
       "      <th>journal_name</th>\n",
       "      <th>citation_num</th>\n",
       "      <th>cluster_id</th>\n",
       "    </tr>\n",
       "  </thead>\n",
       "  <tbody>\n",
       "    <tr>\n",
       "      <th>0</th>\n",
       "      <td>0</td>\n",
       "      <td>Expensive anomalies</td>\n",
       "      <td>Anomalies have higher returns when they are c...</td>\n",
       "      <td>Journal of Empirical Finance</td>\n",
       "      <td>16</td>\n",
       "      <td>46</td>\n",
       "    </tr>\n",
       "    <tr>\n",
       "      <th>1</th>\n",
       "      <td>1</td>\n",
       "      <td>Climate change concerns and mortgage lending</td>\n",
       "      <td>Abnormally high local temperature leads to el...</td>\n",
       "      <td>Journal of Empirical Finance</td>\n",
       "      <td>14</td>\n",
       "      <td>63</td>\n",
       "    </tr>\n",
       "    <tr>\n",
       "      <th>2</th>\n",
       "      <td>2</td>\n",
       "      <td>Technological disparity and its impact on mark...</td>\n",
       "      <td>We document substantial technological dispari...</td>\n",
       "      <td>Journal of Empirical Finance</td>\n",
       "      <td>9</td>\n",
       "      <td>86</td>\n",
       "    </tr>\n",
       "    <tr>\n",
       "      <th>3</th>\n",
       "      <td>3</td>\n",
       "      <td>The effect of investor attention on stock pric...</td>\n",
       "      <td>Stock crash concerns: the study addresses the...</td>\n",
       "      <td>Journal of Empirical Finance</td>\n",
       "      <td>7</td>\n",
       "      <td>71</td>\n",
       "    </tr>\n",
       "    <tr>\n",
       "      <th>4</th>\n",
       "      <td>4</td>\n",
       "      <td>Tail risks and private equity performance</td>\n",
       "      <td>We explore key determinants of Private Equity...</td>\n",
       "      <td>Journal of Empirical Finance</td>\n",
       "      <td>9</td>\n",
       "      <td>78</td>\n",
       "    </tr>\n",
       "  </tbody>\n",
       "</table>\n",
       "</div>"
      ],
      "text/plain": [
       "   Unnamed: 0                                              title  \\\n",
       "0           0                                Expensive anomalies   \n",
       "1           1       Climate change concerns and mortgage lending   \n",
       "2           2  Technological disparity and its impact on mark...   \n",
       "3           3  The effect of investor attention on stock pric...   \n",
       "4           4          Tail risks and private equity performance   \n",
       "\n",
       "                                            abstract  \\\n",
       "0   Anomalies have higher returns when they are c...   \n",
       "1   Abnormally high local temperature leads to el...   \n",
       "2   We document substantial technological dispari...   \n",
       "3   Stock crash concerns: the study addresses the...   \n",
       "4   We explore key determinants of Private Equity...   \n",
       "\n",
       "                    journal_name  citation_num  cluster_id  \n",
       "0  Journal of Empirical Finance             16          46  \n",
       "1  Journal of Empirical Finance             14          63  \n",
       "2  Journal of Empirical Finance              9          86  \n",
       "3  Journal of Empirical Finance              7          71  \n",
       "4  Journal of Empirical Finance              9          78  "
      ]
     },
     "execution_count": 6,
     "metadata": {},
     "output_type": "execute_result"
    }
   ],
   "source": [
    "df.head()"
   ]
  },
  {
   "cell_type": "code",
   "execution_count": null,
   "metadata": {},
   "outputs": [],
   "source": []
  }
 ],
 "metadata": {
  "kernelspec": {
   "display_name": "base",
   "language": "python",
   "name": "python3"
  },
  "language_info": {
   "codemirror_mode": {
    "name": "ipython",
    "version": 3
   },
   "file_extension": ".py",
   "mimetype": "text/x-python",
   "name": "python",
   "nbconvert_exporter": "python",
   "pygments_lexer": "ipython3",
   "version": "3.12.4"
  }
 },
 "nbformat": 4,
 "nbformat_minor": 2
}
